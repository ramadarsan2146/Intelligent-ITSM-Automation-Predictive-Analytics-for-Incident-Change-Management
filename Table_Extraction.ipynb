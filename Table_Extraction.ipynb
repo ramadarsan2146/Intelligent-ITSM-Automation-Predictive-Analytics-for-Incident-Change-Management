{
 "cells": [
  {
   "cell_type": "code",
   "execution_count": 7,
   "id": "2659c3e9-6899-4784-85b8-6145cb5153b2",
   "metadata": {},
   "outputs": [],
   "source": [
    "#pip install pymysql"
   ]
  },
  {
   "cell_type": "code",
   "execution_count": 9,
   "id": "99dc91bc-4fa9-4584-8d78-20a9f21e3bf3",
   "metadata": {},
   "outputs": [
    {
     "name": "stdout",
     "output_type": "stream",
     "text": [
      "Database connection successful.\n",
      "\n",
      "Available tables in the database:\n",
      "- dataset_list\n",
      "\n",
      "Data extracted from table: dataset_list\n",
      "Number of rows: 46606\n",
      "\n",
      "\n",
      "Data saved to 'dataset_list.csv'.\n",
      "\n",
      "Database connection closed.\n"
     ]
    }
   ],
   "source": [
    "import pandas as pd\n",
    "import pymysql\n",
    "import warnings\n",
    "\n",
    "# Suppress warnings\n",
    "warnings.filterwarnings(\"ignore\")\n",
    "\n",
    "# Database credentials\n",
    "db_config = {\n",
    "    \"host\": \"18.136.157.135\",\n",
    "    \"user\": \"dm_team\",\n",
    "    \"password\": \"DM!$Team@&27920!\",\n",
    "    \"database\": \"project_itsm\"\n",
    "}\n",
    "\n",
    "# Connect to the database\n",
    "try:\n",
    "    connection = pymysql.connect(**db_config)\n",
    "    print(\"Database connection successful.\\n\")\n",
    "\n",
    "    # Show all available tables\n",
    "    show_tables_query = \"SHOW TABLES;\"\n",
    "    with connection.cursor() as cursor:\n",
    "        cursor.execute(show_tables_query)\n",
    "        tables = cursor.fetchall()\n",
    "        print(\"Available tables in the database:\")\n",
    "        for t in tables:\n",
    "            print(\"-\", t[0])\n",
    "\n",
    "    # Extract data from a specific table\n",
    "    table_name = \"dataset_list\" \n",
    "    query = f\"SELECT * FROM {table_name};\"\n",
    "\n",
    "    # Fetch data into DataFrame\n",
    "    df = pd.read_sql(query, connection)\n",
    "    print(f\"\\nData extracted from table: {table_name}\")\n",
    "    print(f\"Number of rows: {df.shape[0]}\\n\")\n",
    "\n",
    "    # Save to CSV\n",
    "    df.to_csv(f\"{table_name}.csv\", index=False)\n",
    "    print(f\"\\nData saved to '{table_name}.csv'.\")\n",
    "\n",
    "except Exception as e:\n",
    "    print(\"Error:\", e)\n",
    "\n",
    "finally:\n",
    "    if 'connection' in locals():\n",
    "        connection.close()\n",
    "        print(\"\\nDatabase connection closed.\")"
   ]
  }
 ],
 "metadata": {
  "kernelspec": {
   "display_name": "Python 3 (ipykernel)",
   "language": "python",
   "name": "python3"
  },
  "language_info": {
   "codemirror_mode": {
    "name": "ipython",
    "version": 3
   },
   "file_extension": ".py",
   "mimetype": "text/x-python",
   "name": "python",
   "nbconvert_exporter": "python",
   "pygments_lexer": "ipython3",
   "version": "3.12.7"
  }
 },
 "nbformat": 4,
 "nbformat_minor": 5
}
